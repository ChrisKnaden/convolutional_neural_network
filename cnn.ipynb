{
 "cells": [
  {
   "cell_type": "markdown",
   "id": "f44845f0",
   "metadata": {},
   "source": [
    "## ToDo:\n",
    "- Data Agumentation\n",
    "    - Transformations nebenläufig oder direkt auf das dataset anwenden?\n",
    "- eigenes CNN vom Aufbau entwickeln\n",
    "    - ggf. an den Aufbau von der VL halten\n",
    "    - ggf. Study raussuchen\n",
    "- CNN Speichern können\n",
    "    - CNN nutzen um Testdaten zu analysieren und Ergebnis in CSV schreiben\n",
    "- Accuracy herausfinden\n",
    "- optimale Learning Rate herausfinden\n",
    "    - https://towardsdatascience.com/finding-good-learning-rate-and-the-one-cycle-policy-7159fe1db5d6\n",
    "   "
   ]
  },
  {
   "cell_type": "markdown",
   "id": "7b209c5c",
   "metadata": {},
   "source": [
    "### Import libraries"
   ]
  },
  {
   "cell_type": "code",
   "execution_count": 1,
   "id": "345f5182",
   "metadata": {
    "ExecuteTime": {
     "end_time": "2023-06-01T12:33:07.979975115Z",
     "start_time": "2023-06-01T12:33:06.517127573Z"
    }
   },
   "outputs": [],
   "source": [
    "import pandas as pd\n",
    "import numpy as np\n",
    "import torch\n",
    "import torchvision\n",
    "import torchvision.transforms as transforms\n",
    "from torchvision.datasets import ImageFolder\n"
   ]
  },
  {
   "cell_type": "markdown",
   "id": "7c326ec2",
   "metadata": {},
   "source": [
    "### load and normalize dog dataset"
   ]
  },
  {
   "cell_type": "code",
   "execution_count": 8,
   "id": "39898ee0",
   "metadata": {
    "ExecuteTime": {
     "end_time": "2023-06-01T12:33:11.818578210Z",
     "start_time": "2023-06-01T12:33:11.731034193Z"
    }
   },
   "outputs": [],
   "source": [
    "from torch.utils.data.dataloader import DataLoader\n",
    "from torch.utils.data import random_split\n",
    "import math\n",
    "\n",
    "mean = [0.4766, 0.4527, 0.3926]\n",
    "std = [0.2275, 0.2224, 0.2210]\n",
    "\n",
    "meanOriginal = [0.5, 0.5, 0.5]\n",
    "stdOriginal = [0.5, 0.5, 0.5]\n",
    "\n",
    "#transformer for normalization of images\n",
    "# transforms.Compose -> pipeline that in this case firstly converts image to tensor and then normalizes it\n",
    "# - first (0.5, 0.5, 0.5) are the mean for each channel(red, green, blue) and \n",
    "# - second is the standard deviation for each channel\n",
    "# - resize the pictures from 275x183 to 28x28\n",
    "transform =  transforms.Compose(\n",
    "    [transforms.Pad(25, padding_mode='symmetric'),\n",
    "     transforms.RandomHorizontalFlip(), \n",
    "     transforms.ToTensor(),\n",
    "     transforms.Resize((64,64), antialias=False),\n",
    "     transforms.Normalize(mean, std)])\n",
    "\n",
    "##### Testset ohne transformations???\n",
    "transformOriginal =  transforms.Compose(\n",
    "    [transforms.ToTensor(),\n",
    "     transforms.Resize((16,16), antialias=False),\n",
    "     transforms.Normalize(meanOriginal, stdOriginal)])\n",
    "\n",
    "\n",
    "#batch, to have a certain amount of example pictures\n",
    "batch_size = 16\n",
    "\n",
    "\n",
    "#trainset\n",
    "train_dir = '/home/ck/Documents/Deep_Learning_Python/convolutional_neural_network/train'\n",
    "#testset\n",
    "test_dir = '/home/ck/Documents/Deep_Learning_Python/convolutional_neural_network/test'\n",
    "\n",
    "#load trainset\n",
    "train_set = ImageFolder(train_dir,transform = transform)\n",
    "#load testset\n",
    "test_set = ImageFolder(test_dir,transform = transformOriginal)\n",
    "\n",
    "\n",
    "#calculate the size of the training and validation set \n",
    "train_size = int(0.8 * len(train_set))  # 80% for training\n",
    "val_size = len(train_set) - train_size\n",
    "\n",
    "#Split train_set into training and validation set\n",
    "train_data, val_data = random_split(train_set,[train_size, val_size], generator=torch.Generator().manual_seed(42))\n",
    "\n",
    "#Return batch given transformations of the ImageFolder\n",
    "trainloader = DataLoader(train_data, batch_size=batch_size, shuffle = True, num_workers = 0)\n",
    "valloader = DataLoader(val_data, batch_size=batch_size, shuffle = True, num_workers = 0)\n"
   ]
  },
  {
   "cell_type": "markdown",
   "id": "d5baa684",
   "metadata": {},
   "source": [
    "### Print random image"
   ]
  },
  {
   "cell_type": "code",
   "execution_count": 9,
   "id": "2abaffac",
   "metadata": {
    "ExecuteTime": {
     "end_time": "2023-06-01T12:33:16.821971011Z",
     "start_time": "2023-06-01T12:33:15.800537172Z"
    },
    "scrolled": true
   },
   "outputs": [
    {
     "name": "stdout",
     "output_type": "stream",
     "text": [
      "Label : African_hunting_dog\n"
     ]
    },
    {
     "data": {
      "image/png": "[encoded data removed]",
      "text/plain": [
       "<Figure size 640x480 with 1 Axes>"
      ]
     },
     "metadata": {},
     "output_type": "display_data"
    }
   ],
   "source": [
    "import matplotlib.pyplot as plt\n",
    "import numpy as np\n",
    "\n",
    "\n",
    "\n",
    "#Get classes (folder names) of the training set\n",
    "classes = train_set.classes\n",
    "\n",
    "#functions to show an image out of the Training set\n",
    "#print(\"Follwing classes are there : \\n\",train_set.classes)\n",
    "def display_img(img,label):\n",
    "    print(f\"Label : {train_set.classes[label]}\")\n",
    "    img = img / 2 + 0.5 \n",
    "    img = np.clip(img, 0, 1) # Clip values to the valid range [0, 1]\n",
    "    plt.imshow(img.permute(1,2,0))\n",
    "\n",
    "#display the first image [0] in the dataset\n",
    "display_img(*train_set[0])    # * to unpack the tuple: (img, label)"
   ]
  },
  {
   "cell_type": "code",
   "execution_count": 6,
   "id": "9dfd2690",
   "metadata": {},
   "outputs": [
    {
     "data": {
      "text/plain": [
       "'\\narrY = []\\nfor i in range(val_size):\\n    X,y = val_data[i]\\n    arrY.append(y)\\n    \\nuArr = np.unique(arrY)\\nuArr\\n'"
      ]
     },
     "execution_count": 6,
     "metadata": {},
     "output_type": "execute_result"
    },
    {
     "data": {
      "image/png": "[encoded data removed]",
      "text/plain": [
       "<Figure size 1200x1200 with 10 Axes>"
      ]
     },
     "metadata": {},
     "output_type": "display_data"
    }
   ],
   "source": [
    "from matplotlib import pyplot as plt\n",
    "f, axarr = plt.subplots(1,10, figsize=(12, 12))\n",
    "for i in range(10):\n",
    "    X,y = train_data[i]\n",
    "    X = X.transpose(0, -1).transpose(0, 1)\n",
    "    X = np.clip(X, 0, 1)  # Clip values to the valid range [0, 1]\n",
    "    y = train_set.classes[y]\n",
    "    axarr[i].imshow(X)\n",
    "    axarr[i].axis('off')\n",
    "    axarr[i].set_title(f'{y}', fontsize='small')\n",
    "\n",
    "# Hat das val_data images aus allen Klassen?\n",
    "# -> ja\n",
    "'''\n",
    "arrY = []\n",
    "for i in range(val_size):\n",
    "    X,y = val_data[i]\n",
    "    arrY.append(y)\n",
    "    \n",
    "uArr = np.unique(arrY)\n",
    "uArr\n",
    "'''\n",
    "#for i, batch in enumerate(valloader):\n",
    "#    X, y = batch\n",
    "#    print(i, X.size())\n"
   ]
  },
  {
   "cell_type": "code",
   "execution_count": 10,
   "id": "cae62eb6",
   "metadata": {
    "ExecuteTime": {
     "end_time": "2023-06-01T12:52:41.199420051Z",
     "start_time": "2023-06-01T12:52:41.150465498Z"
    }
   },
   "outputs": [],
   "source": [
    "from tqdm import tqdm\n",
    "import sys\n",
    "import torch, torch.nn as nn, torch.nn.functional as F\n",
    "\n",
    "class MyCNNModel(nn.Module):\n",
    "    def __init__(self, *layers, lr=0.01, classes=None):\n",
    "        super().__init__() # <- Very important! __init__ from parent class torch.nn \n",
    "        self.lr = lr    # learning rate\n",
    "        self.classes = classes  # classes \n",
    "        ## Build model\n",
    "        self.layers = nn.Sequential(*layers) # Create a sequential model, see below\n",
    "    \n",
    "    # Forward pass through the given layers, needed by torch.nn, which is used by train_step\n",
    "    def forward(self, X):\n",
    "        return self.layers(X)\n",
    "    \n",
    "    # Used after training to predict with the generated model\n",
    "    def predict(self, X):\n",
    "        with torch.no_grad():\n",
    "            y_hat = self(X).argmax(1)\n",
    "        if self.classes is not None:\n",
    "            y_hat = [self.classes[i] for i in y_hat]\n",
    "        return y_hat\n",
    "    \n",
    "    # Actual forward pass\n",
    "    def train_step(self, X, y):\n",
    "        y_hat = self(X)   # y_hat = prediction, self(X) calls the forward() function above\n",
    "        # y_hat needs to be the shape (batch_size, classes)\n",
    "        # y needs to be the shape of batch_size and contain the class of each sample\n",
    "        # calculates the \"cross_entropy\"-loss, is prediction == actual image\n",
    "        return F.cross_entropy(y_hat, y)\n",
    "        \n",
    "    def validation_step(self, X, y):\n",
    "        # temporarily disable gradient, because you don't need it during validation\n",
    "        with torch.no_grad():\n",
    "            # calculate the loss, just without the gradient-calculation\n",
    "            return self.train_step(X, y)\n",
    "    \n",
    "    def configure_optimizers(self):\n",
    "        # self.parameters() = returns an iterator over all the learnable parameters of the model\n",
    "        # SGD = optimization alg. for nn\n",
    "        optimizer = torch.optim.SGD(self.parameters(), lr=self.lr)\n",
    "        return optimizer\n",
    "        \n",
    "    def fit(self, train_loader, valid_loader, epochs=10):\n",
    "        # Load Optimizer\n",
    "        optimizer = self.configure_optimizers()\n",
    "        \n",
    "        # Amount of epochs, one epoch is when all batches are fed into the model to train at once\n",
    "        for epoch in range(epochs):\n",
    "            print(f'{epoch+1}/{epochs}:')\n",
    "            # Training\n",
    "            self.train() # Set model to training model\n",
    "            # tqm = loading bar, tepoch == array of all batches\n",
    "            with tqdm(train_loader, unit=\"batch\", desc='Train: ', colour='#1f77b4',\\\n",
    "                      file=sys.stdout, ncols=80) as tepoch:\n",
    "                # for each batch in tepoch\n",
    "                correct = 0\n",
    "                for X,y in tepoch:\n",
    "                    optimizer.zero_grad(set_to_none=True) # Sets all gradients to Zero\n",
    "                    loss = self.train_step(X, y) # Execute Forward pass\n",
    "                    loss.backward() # Execute Backwval_dataard pass\n",
    "                    optimizer.step() # Update weights\n",
    "                    tepoch.set_postfix(loss=f'{loss.item():1.4f}') # Update progress bar\n",
    "                    \n",
    "            # Validation\n",
    "            self.eval() # Set model to validation mode\n",
    "            with tqdm(train_loader, unit=\"batch\", desc='Valid: ', colour='#ff7f0e',\\\n",
    "                      file=sys.stdout, ncols=80) as tepoch:\n",
    "               \n",
    "                for X,y in tepoch:\n",
    "                    loss_valid = self.validation_step(X, y) # Execute Forward pass without gradients\n",
    "                    tepoch.set_postfix(loss=f'{loss_valid.item():1.4f}') # Update progress bar\n",
    "        return self"
   ]
  },
  {
   "cell_type": "markdown",
   "id": "cd0539ba",
   "metadata": {},
   "source": [
    "# Model 1 - First Simple Layered CNN"
   ]
  },
  {
   "cell_type": "code",
   "execution_count": 11,
   "id": "b9e7118e",
   "metadata": {
    "ExecuteTime": {
     "end_time": "2023-06-01T12:53:24.166976892Z",
     "start_time": "2023-06-01T12:52:44.094270534Z"
    }
   },
   "outputs": [
    {
     "name": "stdout",
     "output_type": "stream",
     "text": [
      "1/1:\n",
      "Train:   6%|\u001b[38;2;31;119;180m▎     \u001b[0m| 91/1586 [00:08<02:25, 10.31batch/s, accuracy=0, loss=2.5343]\u001b[0m\n"
     ]
    },
    {
     "ename": "KeyboardInterrupt",
     "evalue": "",
     "output_type": "error",
     "traceback": [
      "\u001b[0;31m---------------------------------------------------------------------------\u001b[0m",
      "\u001b[0;31mKeyboardInterrupt\u001b[0m                         Traceback (most recent call last)",
      "Cell \u001b[0;32mIn[11], line 1\u001b[0m\n\u001b[0;32m----> 1\u001b[0m model1 \u001b[38;5;241m=\u001b[39m \u001b[43mMyCNNModel\u001b[49m\u001b[43m(\u001b[49m\n\u001b[1;32m      2\u001b[0m \u001b[43m    \u001b[49m\u001b[38;5;66;43;03m# different functions from torch.nn to modify the model \u001b[39;49;00m\n\u001b[1;32m      3\u001b[0m \u001b[43m    \u001b[49m\u001b[43mnn\u001b[49m\u001b[38;5;241;43m.\u001b[39;49m\u001b[43mConv2d\u001b[49m\u001b[43m(\u001b[49m\u001b[38;5;241;43m3\u001b[39;49m\u001b[43m,\u001b[49m\u001b[43m \u001b[49m\u001b[38;5;241;43m6\u001b[39;49m\u001b[43m,\u001b[49m\u001b[43m \u001b[49m\u001b[43m(\u001b[49m\u001b[38;5;241;43m5\u001b[39;49m\u001b[43m,\u001b[49m\u001b[38;5;241;43m5\u001b[39;49m\u001b[43m)\u001b[49m\u001b[43m,\u001b[49m\u001b[43m \u001b[49m\u001b[43mpadding\u001b[49m\u001b[38;5;241;43m=\u001b[39;49m\u001b[38;5;124;43m'\u001b[39;49m\u001b[38;5;124;43msame\u001b[39;49m\u001b[38;5;124;43m'\u001b[39;49m\u001b[43m)\u001b[49m\u001b[43m,\u001b[49m\n\u001b[1;32m      4\u001b[0m \u001b[43m    \u001b[49m\u001b[43mnn\u001b[49m\u001b[38;5;241;43m.\u001b[39;49m\u001b[43mReLU\u001b[49m\u001b[43m(\u001b[49m\u001b[43m)\u001b[49m\u001b[43m,\u001b[49m\n\u001b[1;32m      5\u001b[0m \u001b[43m    \u001b[49m\u001b[43mnn\u001b[49m\u001b[38;5;241;43m.\u001b[39;49m\u001b[43mMaxPool2d\u001b[49m\u001b[43m(\u001b[49m\u001b[38;5;241;43m2\u001b[39;49m\u001b[43m,\u001b[49m\u001b[43m \u001b[49m\u001b[38;5;241;43m2\u001b[39;49m\u001b[43m)\u001b[49m\u001b[43m,\u001b[49m\n\u001b[1;32m      6\u001b[0m \u001b[43m    \u001b[49m\u001b[43mnn\u001b[49m\u001b[38;5;241;43m.\u001b[39;49m\u001b[43mConv2d\u001b[49m\u001b[43m(\u001b[49m\u001b[38;5;241;43m6\u001b[39;49m\u001b[43m,\u001b[49m\u001b[43m \u001b[49m\u001b[38;5;241;43m16\u001b[39;49m\u001b[43m,\u001b[49m\u001b[43m \u001b[49m\u001b[43m(\u001b[49m\u001b[38;5;241;43m5\u001b[39;49m\u001b[43m,\u001b[49m\u001b[38;5;241;43m5\u001b[39;49m\u001b[43m)\u001b[49m\u001b[43m,\u001b[49m\u001b[43m \u001b[49m\u001b[43mpadding\u001b[49m\u001b[38;5;241;43m=\u001b[39;49m\u001b[38;5;124;43m'\u001b[39;49m\u001b[38;5;124;43msame\u001b[39;49m\u001b[38;5;124;43m'\u001b[39;49m\u001b[43m)\u001b[49m\u001b[43m,\u001b[49m\n\u001b[1;32m      7\u001b[0m \u001b[43m    \u001b[49m\u001b[43mnn\u001b[49m\u001b[38;5;241;43m.\u001b[39;49m\u001b[43mReLU\u001b[49m\u001b[43m(\u001b[49m\u001b[43m)\u001b[49m\u001b[43m,\u001b[49m\n\u001b[1;32m      8\u001b[0m \u001b[43m    \u001b[49m\u001b[43mnn\u001b[49m\u001b[38;5;241;43m.\u001b[39;49m\u001b[43mAdaptiveMaxPool2d\u001b[49m\u001b[43m(\u001b[49m\u001b[38;5;241;43m1\u001b[39;49m\u001b[43m)\u001b[49m\u001b[43m,\u001b[49m\n\u001b[1;32m      9\u001b[0m \u001b[43m    \u001b[49m\u001b[43mnn\u001b[49m\u001b[38;5;241;43m.\u001b[39;49m\u001b[43mFlatten\u001b[49m\u001b[43m(\u001b[49m\u001b[38;5;241;43m1\u001b[39;49m\u001b[43m)\u001b[49m\u001b[43m,\u001b[49m\n\u001b[1;32m     10\u001b[0m \u001b[43m    \u001b[49m\u001b[43mnn\u001b[49m\u001b[38;5;241;43m.\u001b[39;49m\u001b[43mLinear\u001b[49m\u001b[43m(\u001b[49m\u001b[38;5;241;43m16\u001b[39;49m\u001b[43m,\u001b[49m\u001b[43m \u001b[49m\u001b[38;5;241;43m20\u001b[39;49m\u001b[43m)\u001b[49m\u001b[43m,\u001b[49m\u001b[43m \u001b[49m\u001b[38;5;66;43;03m# 20 because 20 classes\u001b[39;49;00m\n\u001b[1;32m     11\u001b[0m \u001b[43m    \u001b[49m\u001b[43mclasses\u001b[49m\u001b[38;5;241;43m=\u001b[39;49m\u001b[43mtrain_set\u001b[49m\u001b[38;5;241;43m.\u001b[39;49m\u001b[43mclasses\u001b[49m\u001b[43m,\u001b[49m\n\u001b[1;32m     12\u001b[0m \u001b[43m)\u001b[49m\u001b[38;5;241;43m.\u001b[39;49m\u001b[43mfit\u001b[49m\u001b[43m(\u001b[49m\u001b[43mtrainloader\u001b[49m\u001b[43m,\u001b[49m\u001b[43m \u001b[49m\u001b[43mvalloader\u001b[49m\u001b[43m,\u001b[49m\u001b[43m \u001b[49m\u001b[43mepochs\u001b[49m\u001b[38;5;241;43m=\u001b[39;49m\u001b[38;5;241;43m1\u001b[39;49m\u001b[43m)\u001b[49m\n",
      "Cell \u001b[0;32mIn[10], line 68\u001b[0m, in \u001b[0;36mMyCNNModel.fit\u001b[0;34m(self, train_loader, valid_loader, epochs)\u001b[0m\n\u001b[1;32m     64\u001b[0m \u001b[38;5;28;01mwith\u001b[39;00m tqdm(train_loader, unit\u001b[38;5;241m=\u001b[39m\u001b[38;5;124m\"\u001b[39m\u001b[38;5;124mbatch\u001b[39m\u001b[38;5;124m\"\u001b[39m, desc\u001b[38;5;241m=\u001b[39m\u001b[38;5;124m'\u001b[39m\u001b[38;5;124mTrain: \u001b[39m\u001b[38;5;124m'\u001b[39m, colour\u001b[38;5;241m=\u001b[39m\u001b[38;5;124m'\u001b[39m\u001b[38;5;124m#1f77b4\u001b[39m\u001b[38;5;124m'\u001b[39m,\\\n\u001b[1;32m     65\u001b[0m           file\u001b[38;5;241m=\u001b[39msys\u001b[38;5;241m.\u001b[39mstdout, ncols\u001b[38;5;241m=\u001b[39m\u001b[38;5;241m80\u001b[39m) \u001b[38;5;28;01mas\u001b[39;00m tepoch:\n\u001b[1;32m     66\u001b[0m     \u001b[38;5;66;03m# for each batch in tepoch\u001b[39;00m\n\u001b[1;32m     67\u001b[0m     correct \u001b[38;5;241m=\u001b[39m \u001b[38;5;241m0\u001b[39m\n\u001b[0;32m---> 68\u001b[0m     \u001b[38;5;28;01mfor\u001b[39;00m X,y \u001b[38;5;129;01min\u001b[39;00m tepoch:\n\u001b[1;32m     69\u001b[0m         optimizer\u001b[38;5;241m.\u001b[39mzero_grad(set_to_none\u001b[38;5;241m=\u001b[39m\u001b[38;5;28;01mTrue\u001b[39;00m) \u001b[38;5;66;03m# Sets all gradients to Zero\u001b[39;00m\n\u001b[1;32m     70\u001b[0m         loss, accuracy \u001b[38;5;241m=\u001b[39m \u001b[38;5;28mself\u001b[39m\u001b[38;5;241m.\u001b[39mtrain_step(X, y) \u001b[38;5;66;03m# Execute Forward pass\u001b[39;00m\n",
      "File \u001b[0;32m~/venv/lib/python3.10/site-packages/tqdm/std.py:1178\u001b[0m, in \u001b[0;36mtqdm.__iter__\u001b[0;34m(self)\u001b[0m\n\u001b[1;32m   1175\u001b[0m time \u001b[38;5;241m=\u001b[39m \u001b[38;5;28mself\u001b[39m\u001b[38;5;241m.\u001b[39m_time\n\u001b[1;32m   1177\u001b[0m \u001b[38;5;28;01mtry\u001b[39;00m:\n\u001b[0;32m-> 1178\u001b[0m     \u001b[38;5;28;01mfor\u001b[39;00m obj \u001b[38;5;129;01min\u001b[39;00m iterable:\n\u001b[1;32m   1179\u001b[0m         \u001b[38;5;28;01myield\u001b[39;00m obj\n\u001b[1;32m   1180\u001b[0m         \u001b[38;5;66;03m# Update and possibly print the progressbar.\u001b[39;00m\n\u001b[1;32m   1181\u001b[0m         \u001b[38;5;66;03m# Note: does not call self.update(1) for speed optimisation.\u001b[39;00m\n",
      "File \u001b[0;32m~/venv/lib/python3.10/site-packages/torch/utils/data/dataloader.py:633\u001b[0m, in \u001b[0;36m_BaseDataLoaderIter.__next__\u001b[0;34m(self)\u001b[0m\n\u001b[1;32m    630\u001b[0m \u001b[38;5;28;01mif\u001b[39;00m \u001b[38;5;28mself\u001b[39m\u001b[38;5;241m.\u001b[39m_sampler_iter \u001b[38;5;129;01mis\u001b[39;00m \u001b[38;5;28;01mNone\u001b[39;00m:\n\u001b[1;32m    631\u001b[0m     \u001b[38;5;66;03m# TODO(https://github.com/pytorch/pytorch/issues/76750)\u001b[39;00m\n\u001b[1;32m    632\u001b[0m     \u001b[38;5;28mself\u001b[39m\u001b[38;5;241m.\u001b[39m_reset()  \u001b[38;5;66;03m# type: ignore[call-arg]\u001b[39;00m\n\u001b[0;32m--> 633\u001b[0m data \u001b[38;5;241m=\u001b[39m \u001b[38;5;28;43mself\u001b[39;49m\u001b[38;5;241;43m.\u001b[39;49m\u001b[43m_next_data\u001b[49m\u001b[43m(\u001b[49m\u001b[43m)\u001b[49m\n\u001b[1;32m    634\u001b[0m \u001b[38;5;28mself\u001b[39m\u001b[38;5;241m.\u001b[39m_num_yielded \u001b[38;5;241m+\u001b[39m\u001b[38;5;241m=\u001b[39m \u001b[38;5;241m1\u001b[39m\n\u001b[1;32m    635\u001b[0m \u001b[38;5;28;01mif\u001b[39;00m \u001b[38;5;28mself\u001b[39m\u001b[38;5;241m.\u001b[39m_dataset_kind \u001b[38;5;241m==\u001b[39m _DatasetKind\u001b[38;5;241m.\u001b[39mIterable \u001b[38;5;129;01mand\u001b[39;00m \\\n\u001b[1;32m    636\u001b[0m         \u001b[38;5;28mself\u001b[39m\u001b[38;5;241m.\u001b[39m_IterableDataset_len_called \u001b[38;5;129;01mis\u001b[39;00m \u001b[38;5;129;01mnot\u001b[39;00m \u001b[38;5;28;01mNone\u001b[39;00m \u001b[38;5;129;01mand\u001b[39;00m \\\n\u001b[1;32m    637\u001b[0m         \u001b[38;5;28mself\u001b[39m\u001b[38;5;241m.\u001b[39m_num_yielded \u001b[38;5;241m>\u001b[39m \u001b[38;5;28mself\u001b[39m\u001b[38;5;241m.\u001b[39m_IterableDataset_len_called:\n",
      "File \u001b[0;32m~/venv/lib/python3.10/site-packages/torch/utils/data/dataloader.py:677\u001b[0m, in \u001b[0;36m_SingleProcessDataLoaderIter._next_data\u001b[0;34m(self)\u001b[0m\n\u001b[1;32m    675\u001b[0m \u001b[38;5;28;01mdef\u001b[39;00m \u001b[38;5;21m_next_data\u001b[39m(\u001b[38;5;28mself\u001b[39m):\n\u001b[1;32m    676\u001b[0m     index \u001b[38;5;241m=\u001b[39m \u001b[38;5;28mself\u001b[39m\u001b[38;5;241m.\u001b[39m_next_index()  \u001b[38;5;66;03m# may raise StopIteration\u001b[39;00m\n\u001b[0;32m--> 677\u001b[0m     data \u001b[38;5;241m=\u001b[39m \u001b[38;5;28;43mself\u001b[39;49m\u001b[38;5;241;43m.\u001b[39;49m\u001b[43m_dataset_fetcher\u001b[49m\u001b[38;5;241;43m.\u001b[39;49m\u001b[43mfetch\u001b[49m\u001b[43m(\u001b[49m\u001b[43mindex\u001b[49m\u001b[43m)\u001b[49m  \u001b[38;5;66;03m# may raise StopIteration\u001b[39;00m\n\u001b[1;32m    678\u001b[0m     \u001b[38;5;28;01mif\u001b[39;00m \u001b[38;5;28mself\u001b[39m\u001b[38;5;241m.\u001b[39m_pin_memory:\n\u001b[1;32m    679\u001b[0m         data \u001b[38;5;241m=\u001b[39m _utils\u001b[38;5;241m.\u001b[39mpin_memory\u001b[38;5;241m.\u001b[39mpin_memory(data, \u001b[38;5;28mself\u001b[39m\u001b[38;5;241m.\u001b[39m_pin_memory_device)\n",
      "File \u001b[0;32m~/venv/lib/python3.10/site-packages/torch/utils/data/_utils/fetch.py:51\u001b[0m, in \u001b[0;36m_MapDatasetFetcher.fetch\u001b[0;34m(self, possibly_batched_index)\u001b[0m\n\u001b[1;32m     49\u001b[0m         data \u001b[38;5;241m=\u001b[39m \u001b[38;5;28mself\u001b[39m\u001b[38;5;241m.\u001b[39mdataset\u001b[38;5;241m.\u001b[39m__getitems__(possibly_batched_index)\n\u001b[1;32m     50\u001b[0m     \u001b[38;5;28;01melse\u001b[39;00m:\n\u001b[0;32m---> 51\u001b[0m         data \u001b[38;5;241m=\u001b[39m [\u001b[38;5;28mself\u001b[39m\u001b[38;5;241m.\u001b[39mdataset[idx] \u001b[38;5;28;01mfor\u001b[39;00m idx \u001b[38;5;129;01min\u001b[39;00m possibly_batched_index]\n\u001b[1;32m     52\u001b[0m \u001b[38;5;28;01melse\u001b[39;00m:\n\u001b[1;32m     53\u001b[0m     data \u001b[38;5;241m=\u001b[39m \u001b[38;5;28mself\u001b[39m\u001b[38;5;241m.\u001b[39mdataset[possibly_batched_index]\n",
      "File \u001b[0;32m~/venv/lib/python3.10/site-packages/torch/utils/data/_utils/fetch.py:51\u001b[0m, in \u001b[0;36m<listcomp>\u001b[0;34m(.0)\u001b[0m\n\u001b[1;32m     49\u001b[0m         data \u001b[38;5;241m=\u001b[39m \u001b[38;5;28mself\u001b[39m\u001b[38;5;241m.\u001b[39mdataset\u001b[38;5;241m.\u001b[39m__getitems__(possibly_batched_index)\n\u001b[1;32m     50\u001b[0m     \u001b[38;5;28;01melse\u001b[39;00m:\n\u001b[0;32m---> 51\u001b[0m         data \u001b[38;5;241m=\u001b[39m [\u001b[38;5;28;43mself\u001b[39;49m\u001b[38;5;241;43m.\u001b[39;49m\u001b[43mdataset\u001b[49m\u001b[43m[\u001b[49m\u001b[43midx\u001b[49m\u001b[43m]\u001b[49m \u001b[38;5;28;01mfor\u001b[39;00m idx \u001b[38;5;129;01min\u001b[39;00m possibly_batched_index]\n\u001b[1;32m     52\u001b[0m \u001b[38;5;28;01melse\u001b[39;00m:\n\u001b[1;32m     53\u001b[0m     data \u001b[38;5;241m=\u001b[39m \u001b[38;5;28mself\u001b[39m\u001b[38;5;241m.\u001b[39mdataset[possibly_batched_index]\n",
      "File \u001b[0;32m~/venv/lib/python3.10/site-packages/torch/utils/data/dataset.py:298\u001b[0m, in \u001b[0;36mSubset.__getitem__\u001b[0;34m(self, idx)\u001b[0m\n\u001b[1;32m    296\u001b[0m \u001b[38;5;28;01mif\u001b[39;00m \u001b[38;5;28misinstance\u001b[39m(idx, \u001b[38;5;28mlist\u001b[39m):\n\u001b[1;32m    297\u001b[0m     \u001b[38;5;28;01mreturn\u001b[39;00m \u001b[38;5;28mself\u001b[39m\u001b[38;5;241m.\u001b[39mdataset[[\u001b[38;5;28mself\u001b[39m\u001b[38;5;241m.\u001b[39mindices[i] \u001b[38;5;28;01mfor\u001b[39;00m i \u001b[38;5;129;01min\u001b[39;00m idx]]\n\u001b[0;32m--> 298\u001b[0m \u001b[38;5;28;01mreturn\u001b[39;00m \u001b[38;5;28;43mself\u001b[39;49m\u001b[38;5;241;43m.\u001b[39;49m\u001b[43mdataset\u001b[49m\u001b[43m[\u001b[49m\u001b[38;5;28;43mself\u001b[39;49m\u001b[38;5;241;43m.\u001b[39;49m\u001b[43mindices\u001b[49m\u001b[43m[\u001b[49m\u001b[43midx\u001b[49m\u001b[43m]\u001b[49m\u001b[43m]\u001b[49m\n",
      "File \u001b[0;32m~/venv/lib/python3.10/site-packages/torchvision/datasets/folder.py:229\u001b[0m, in \u001b[0;36mDatasetFolder.__getitem__\u001b[0;34m(self, index)\u001b[0m\n\u001b[1;32m    221\u001b[0m \u001b[38;5;250m\u001b[39m\u001b[38;5;124;03m\"\"\"\u001b[39;00m\n\u001b[1;32m    222\u001b[0m \u001b[38;5;124;03mArgs:\u001b[39;00m\n\u001b[1;32m    223\u001b[0m \u001b[38;5;124;03m    index (int): Index\u001b[39;00m\n\u001b[0;32m   (...)\u001b[0m\n\u001b[1;32m    226\u001b[0m \u001b[38;5;124;03m    tuple: (sample, target) where target is class_index of the target class.\u001b[39;00m\n\u001b[1;32m    227\u001b[0m \u001b[38;5;124;03m\"\"\"\u001b[39;00m\n\u001b[1;32m    228\u001b[0m path, target \u001b[38;5;241m=\u001b[39m \u001b[38;5;28mself\u001b[39m\u001b[38;5;241m.\u001b[39msamples[index]\n\u001b[0;32m--> 229\u001b[0m sample \u001b[38;5;241m=\u001b[39m \u001b[38;5;28;43mself\u001b[39;49m\u001b[38;5;241;43m.\u001b[39;49m\u001b[43mloader\u001b[49m\u001b[43m(\u001b[49m\u001b[43mpath\u001b[49m\u001b[43m)\u001b[49m\n\u001b[1;32m    230\u001b[0m \u001b[38;5;28;01mif\u001b[39;00m \u001b[38;5;28mself\u001b[39m\u001b[38;5;241m.\u001b[39mtransform \u001b[38;5;129;01mis\u001b[39;00m \u001b[38;5;129;01mnot\u001b[39;00m \u001b[38;5;28;01mNone\u001b[39;00m:\n\u001b[1;32m    231\u001b[0m     sample \u001b[38;5;241m=\u001b[39m \u001b[38;5;28mself\u001b[39m\u001b[38;5;241m.\u001b[39mtransform(sample)\n",
      "File \u001b[0;32m~/venv/lib/python3.10/site-packages/torchvision/datasets/folder.py:268\u001b[0m, in \u001b[0;36mdefault_loader\u001b[0;34m(path)\u001b[0m\n\u001b[1;32m    266\u001b[0m     \u001b[38;5;28;01mreturn\u001b[39;00m accimage_loader(path)\n\u001b[1;32m    267\u001b[0m \u001b[38;5;28;01melse\u001b[39;00m:\n\u001b[0;32m--> 268\u001b[0m     \u001b[38;5;28;01mreturn\u001b[39;00m \u001b[43mpil_loader\u001b[49m\u001b[43m(\u001b[49m\u001b[43mpath\u001b[49m\u001b[43m)\u001b[49m\n",
      "File \u001b[0;32m~/venv/lib/python3.10/site-packages/torchvision/datasets/folder.py:248\u001b[0m, in \u001b[0;36mpil_loader\u001b[0;34m(path)\u001b[0m\n\u001b[1;32m    246\u001b[0m \u001b[38;5;28;01mwith\u001b[39;00m \u001b[38;5;28mopen\u001b[39m(path, \u001b[38;5;124m\"\u001b[39m\u001b[38;5;124mrb\u001b[39m\u001b[38;5;124m\"\u001b[39m) \u001b[38;5;28;01mas\u001b[39;00m f:\n\u001b[1;32m    247\u001b[0m     img \u001b[38;5;241m=\u001b[39m Image\u001b[38;5;241m.\u001b[39mopen(f)\n\u001b[0;32m--> 248\u001b[0m     \u001b[38;5;28;01mreturn\u001b[39;00m \u001b[43mimg\u001b[49m\u001b[38;5;241;43m.\u001b[39;49m\u001b[43mconvert\u001b[49m\u001b[43m(\u001b[49m\u001b[38;5;124;43m\"\u001b[39;49m\u001b[38;5;124;43mRGB\u001b[39;49m\u001b[38;5;124;43m\"\u001b[39;49m\u001b[43m)\u001b[49m\n",
      "File \u001b[0;32m~/venv/lib/python3.10/site-packages/PIL/Image.py:933\u001b[0m, in \u001b[0;36mImage.convert\u001b[0;34m(self, mode, matrix, dither, palette, colors)\u001b[0m\n\u001b[1;32m    885\u001b[0m \u001b[38;5;28;01mdef\u001b[39;00m \u001b[38;5;21mconvert\u001b[39m(\n\u001b[1;32m    886\u001b[0m     \u001b[38;5;28mself\u001b[39m, mode\u001b[38;5;241m=\u001b[39m\u001b[38;5;28;01mNone\u001b[39;00m, matrix\u001b[38;5;241m=\u001b[39m\u001b[38;5;28;01mNone\u001b[39;00m, dither\u001b[38;5;241m=\u001b[39m\u001b[38;5;28;01mNone\u001b[39;00m, palette\u001b[38;5;241m=\u001b[39mPalette\u001b[38;5;241m.\u001b[39mWEB, colors\u001b[38;5;241m=\u001b[39m\u001b[38;5;241m256\u001b[39m\n\u001b[1;32m    887\u001b[0m ):\n\u001b[1;32m    888\u001b[0m \u001b[38;5;250m    \u001b[39m\u001b[38;5;124;03m\"\"\"\u001b[39;00m\n\u001b[1;32m    889\u001b[0m \u001b[38;5;124;03m    Returns a converted copy of this image. For the \"P\" mode, this\u001b[39;00m\n\u001b[1;32m    890\u001b[0m \u001b[38;5;124;03m    method translates pixels through the palette.  If mode is\u001b[39;00m\n\u001b[0;32m   (...)\u001b[0m\n\u001b[1;32m    930\u001b[0m \u001b[38;5;124;03m    :returns: An :py:class:`~PIL.Image.Image` object.\u001b[39;00m\n\u001b[1;32m    931\u001b[0m \u001b[38;5;124;03m    \"\"\"\u001b[39;00m\n\u001b[0;32m--> 933\u001b[0m     \u001b[38;5;28;43mself\u001b[39;49m\u001b[38;5;241;43m.\u001b[39;49m\u001b[43mload\u001b[49m\u001b[43m(\u001b[49m\u001b[43m)\u001b[49m\n\u001b[1;32m    935\u001b[0m     has_transparency \u001b[38;5;241m=\u001b[39m \u001b[38;5;28mself\u001b[39m\u001b[38;5;241m.\u001b[39minfo\u001b[38;5;241m.\u001b[39mget(\u001b[38;5;124m\"\u001b[39m\u001b[38;5;124mtransparency\u001b[39m\u001b[38;5;124m\"\u001b[39m) \u001b[38;5;129;01mis\u001b[39;00m \u001b[38;5;129;01mnot\u001b[39;00m \u001b[38;5;28;01mNone\u001b[39;00m\n\u001b[1;32m    936\u001b[0m     \u001b[38;5;28;01mif\u001b[39;00m \u001b[38;5;129;01mnot\u001b[39;00m mode \u001b[38;5;129;01mand\u001b[39;00m \u001b[38;5;28mself\u001b[39m\u001b[38;5;241m.\u001b[39mmode \u001b[38;5;241m==\u001b[39m \u001b[38;5;124m\"\u001b[39m\u001b[38;5;124mP\u001b[39m\u001b[38;5;124m\"\u001b[39m:\n\u001b[1;32m    937\u001b[0m         \u001b[38;5;66;03m# determine default mode\u001b[39;00m\n",
      "File \u001b[0;32m~/venv/lib/python3.10/site-packages/PIL/ImageFile.py:269\u001b[0m, in \u001b[0;36mImageFile.load\u001b[0;34m(self)\u001b[0m\n\u001b[1;32m    266\u001b[0m         \u001b[38;5;28;01mraise\u001b[39;00m \u001b[38;5;167;01mOSError\u001b[39;00m(msg)\n\u001b[1;32m    268\u001b[0m b \u001b[38;5;241m=\u001b[39m b \u001b[38;5;241m+\u001b[39m s\n\u001b[0;32m--> 269\u001b[0m n, err_code \u001b[38;5;241m=\u001b[39m \u001b[43mdecoder\u001b[49m\u001b[38;5;241;43m.\u001b[39;49m\u001b[43mdecode\u001b[49m\u001b[43m(\u001b[49m\u001b[43mb\u001b[49m\u001b[43m)\u001b[49m\n\u001b[1;32m    270\u001b[0m \u001b[38;5;28;01mif\u001b[39;00m n \u001b[38;5;241m<\u001b[39m \u001b[38;5;241m0\u001b[39m:\n\u001b[1;32m    271\u001b[0m     \u001b[38;5;28;01mbreak\u001b[39;00m\n",
      "\u001b[0;31mKeyboardInterrupt\u001b[0m: "
     ]
    }
   ],
   "source": [
    "model1 = MyCNNModel(\n",
    "    # different functions from torch.nn to modify the model \n",
    "    nn.Conv2d(3, 6, (5,5), padding='same'),\n",
    "    nn.ReLU(),\n",
    "    nn.MaxPool2d(2, 2),\n",
    "    nn.Conv2d(6, 16, (5,5), padding='same'),\n",
    "    nn.ReLU(),\n",
    "    nn.AdaptiveMaxPool2d(1),\n",
    "    nn.Flatten(1),\n",
    "    nn.Linear(16, 20), # 20 because 20 classes\n",
    "    classes=train_set.classes,\n",
    ").fit(trainloader, valloader, epochs=10)"
   ]
  },
  {
   "cell_type": "code",
   "execution_count": null,
   "id": "0b73636f",
   "metadata": {},
   "outputs": [],
   "source": [
    "torch.save(model1.state_dict(), '/home/ck/Documents/Deep_Learning_Python/convolutional_neural_network/model1.pt')"
   ]
  },
  {
   "cell_type": "markdown",
   "id": "6eb142ec",
   "metadata": {},
   "source": [
    "## Load model1"
   ]
  },
  {
   "cell_type": "code",
   "execution_count": 4,
   "id": "387a4f2f",
   "metadata": {},
   "outputs": [
    {
     "data": {
      "text/plain": [
       "<All keys matched successfully>"
      ]
     },
     "execution_count": 4,
     "metadata": {},
     "output_type": "execute_result"
    }
   ],
   "source": [
    "model1 = MyCNNModel(\n",
    "    # different functions from torch.nn to modify the model \n",
    "    nn.Conv2d(3, 6, (5,5), padding='same'),\n",
    "    nn.ReLU(),\n",
    "    nn.MaxPool2d(2, 2),\n",
    "    nn.Conv2d(6, 16, (5,5), padding='same'),\n",
    "    nn.ReLU(),\n",
    "    nn.AdaptiveMaxPool2d(1),\n",
    "    nn.Flatten(1),\n",
    "    nn.Linear(16, 20), # 20 because 20 classes\n",
    "    classes=train_set.classes,\n",
    ")\n",
    "model1.load_state_dict(torch.load('/home/ck/Documents/Deep_Learning_Python/convolutional_neural_network/model1.pt'))"
   ]
  },
  {
   "cell_type": "markdown",
   "id": "66a72f74",
   "metadata": {},
   "source": []
  },
  {
   "cell_type": "code",
   "execution_count": 7,
   "id": "d454de2d",
   "metadata": {},
   "outputs": [
    {
     "data": {
      "image/png": "[encoded data removed]",
      "text/plain": [
       "<Figure size 2000x2000 with 10 Axes>"
      ]
     },
     "metadata": {},
     "output_type": "display_data"
    }
   ],
   "source": [
    "f, axarr = plt.subplots(1,10, figsize=(20, 20))\n",
    "for i in range(10):\n",
    "    X,y = train_set[i]\n",
    "    y_hat = model1.predict(X.unsqueeze(0))[0]\n",
    "    X = X.transpose(0, -1).transpose(0, 1)\n",
    "    X = np.clip(X, 0, 1)  # Clip values to the valid range [0, 1]\n",
    "    y = train_set.classes[y]\n",
    "    axarr[i].imshow(X)\n",
    "    axarr[i].axis('off')\n",
    "    axarr[i].set_title(f'{y} - {y_hat}', fontsize='small')"
   ]
  },
  {
   "cell_type": "markdown",
   "id": "21f09399",
   "metadata": {},
   "source": [
    "## Make .csv with predictions"
   ]
  },
  {
   "cell_type": "code",
   "execution_count": 52,
   "id": "bfaa8e1f",
   "metadata": {},
   "outputs": [
    {
     "name": "stdout",
     "output_type": "stream",
     "text": [
      "CSV file written successfully.\n",
      "0.25208891691628565\n"
     ]
    }
   ],
   "source": [
    "import os\n",
    "import csv\n",
    "csv_file = '/home/ck/Documents/Deep_Learning_Python/convolutional_neural_network/prediction.csv'\n",
    "\n",
    "filenames = []\n",
    "for image_path, _ in test_set.samples:\n",
    "    filename = os.path.basename(image_path)\n",
    "    filenames.append(filename)\n",
    "\n",
    "predictions = []\n",
    "for i in range(len(test_set)): \n",
    "    X,y = test_set[i]\n",
    "    y_hat = model1.predict(X.unsqueeze(0))[0]\n",
    "    predictions.append(y_hat)\n",
    "\n",
    "    \n",
    "data = np.column_stack((filenames, predictions))\n",
    "with open(csv_file, mode='w', newline='') as file:\n",
    "    writer = csv.writer(file)\n",
    "    # Write the data to the CSV file\n",
    "    writer.writerows(data)\n",
    "\n",
    "print(\"CSV file written successfully.\")\n",
    "\n",
    "\n",
    "# Accuracy on Validation Dataset\n",
    "print(AnalyseModel(val_data, model1, train_set.classes).getAccuracy())\n"
   ]
  },
  {
   "cell_type": "markdown",
   "id": "9d9c5f5f",
   "metadata": {},
   "source": [
    "## Calculate Accuracy"
   ]
  },
  {
   "cell_type": "code",
   "execution_count": 51,
   "id": "01c278bf",
   "metadata": {},
   "outputs": [],
   "source": [
    "class AnalyseModel:\n",
    "    def __init__(self, val_set, model, classes):\n",
    "        self.val_set = val_set\n",
    "        self.model = model\n",
    "        self.classes = classes\n",
    "    \n",
    "    def getAccuracy(self):\n",
    "        predictions = []\n",
    "        ys = []\n",
    "        for i in range(len(self.val_set)): \n",
    "            X,y = self.val_set[i]\n",
    "            y_hat = self.model.predict(X.unsqueeze(0))[0]\n",
    "            y = self.classes[y]\n",
    "            predictions.append(y_hat)\n",
    "            ys.append(y)\n",
    "\n",
    "        count = 0\n",
    "        for i in range(len(predictions)):\n",
    "            if predictions[i] == ys[i]:\n",
    "                count += 1\n",
    "\n",
    "        accuracy = count / len(predictions)\n",
    "        \n",
    "        return accuracy"
   ]
  },
  {
   "cell_type": "markdown",
   "id": "759dcbce",
   "metadata": {},
   "source": [
    "# Model 2 - More ReLUs and Convolutions"
   ]
  },
  {
   "cell_type": "code",
   "execution_count": null,
   "id": "a74eaa24",
   "metadata": {},
   "outputs": [],
   "source": [
    "model2 = MyCNNModel(\n",
    "    nn.Conv2d(3, 8, (3,3), padding='same'),\n",
    "    nn.ReLU(),\n",
    "    nn.Conv2d(8, 8, (3,3), padding='same'),\n",
    "    nn.ReLU(),\n",
    "    nn.MaxPool2d(2, 2),\n",
    "    nn.Conv2d(8, 16, (3,3), padding='same'),\n",
    "    nn.ReLU(),\n",
    "    nn.Conv2d(16, 16, (3,3), padding='same'),\n",
    "    nn.ReLU(),\n",
    "    nn.Conv2d(16, 16, (3,3), padding='same'),\n",
    "    nn.ReLU(),\n",
    "    nn.AdaptiveMaxPool2d(1),\n",
    "    nn.Flatten(1),\n",
    "    nn.Linear(16, 20),\n",
    "    classes=testset.classes,\n",
    ").fit(trainloader, valloader, epochs=10)"
   ]
  },
  {
   "cell_type": "markdown",
   "id": "cd719489",
   "metadata": {},
   "source": []
  },
  {
   "cell_type": "code",
   "execution_count": null,
   "id": "7e9c8cd5",
   "metadata": {},
   "outputs": [],
   "source": [
    "f, axarr = plt.subplots(1,10, figsize=(12, 12))\n",
    "for i in range(10):\n",
    "    X,y = testset[i]\n",
    "    y_hat = model2.predict(X.unsqueeze(0))[0]\n",
    "    X,y = X.transpose(0,-1).transpose(0,1) * 0.5 + 0.5, testset.classes[y]\n",
    "    axarr[i].imshow(X)\n",
    "    axarr[i].axis('off')\n",
    "    axarr[i].set_title(f'{y} - {y_hat}', fontsize='small')"
   ]
  },
  {
   "cell_type": "markdown",
   "id": "11c4e53a",
   "metadata": {},
   "source": [
    "# ResNet full-preactivation Layer"
   ]
  },
  {
   "cell_type": "code",
   "execution_count": null,
   "id": "de90c49d",
   "metadata": {},
   "outputs": [],
   "source": [
    "# Implementation of the full-preactivation ResNet Layer\n",
    "class MyResLayer(nn.Module):\n",
    "    def __init__(self, in_channels, out_channels, kernel, **kwargs):\n",
    "        super().__init__()\n",
    "        if in_channels == out_channels:\n",
    "            self.proj_out = nn.Identity()\n",
    "        else:\n",
    "            self.proj_out = nn.Conv2d(in_channels, out_channels, (1,1), **kwargs)\n",
    "            \n",
    "        self.res_block = nn.Sequential(\n",
    "            nn.BatchNorm2d(in_channels), #BN\n",
    "            nn.ReLU(), #ReLU\n",
    "            nn.Conv2d(in_channels, out_channels, kernel, **kwargs), #weight\n",
    "            nn.BatchNorm2d(out_channels), #BN\n",
    "            nn.ReLU(), #ReLU\n",
    "            nn.Conv2d(out_channels, out_channels, kernel, **kwargs), #weight\n",
    "        )\n",
    "        \n",
    "    def forward(self, x):\n",
    "        x_res = self.res_block(x)\n",
    "        x = self.proj_out(x)\n",
    "        return  F.relu(x + x_res) #x + x_res"
   ]
  },
  {
   "cell_type": "markdown",
   "id": "c9ac63d7",
   "metadata": {},
   "source": [
    "## Model 3 - ResNet Preactivation Layer"
   ]
  },
  {
   "cell_type": "code",
   "execution_count": null,
   "id": "32d9716a",
   "metadata": {},
   "outputs": [],
   "source": [
    "model3 = MyCNNModel(\n",
    "    MyResLayer(3, 8, (3,3), padding='same'),\n",
    "    MyResLayer(8, 8, (3,3), padding='same'),\n",
    "    nn.MaxPool2d(2, 2),\n",
    "    MyResLayer(8, 16, (3,3), padding='same'),\n",
    "    MyResLayer(16, 16, (3,3), padding='same'),\n",
    "    MyResLayer(16, 16, (3,3), padding='same'),\n",
    "    nn.AdaptiveMaxPool2d(1),\n",
    "    nn.Flatten(1),\n",
    "    nn.Linear(16, 20),\n",
    "    classes=train_set.classes,\n",
    ").fit(trainloader, valloader, epochs=10)"
   ]
  },
  {
   "cell_type": "markdown",
   "id": "4fa7e79b",
   "metadata": {},
   "source": [
    "# Inception Layer Model"
   ]
  },
  {
   "cell_type": "code",
   "execution_count": null,
   "id": "4364c249",
   "metadata": {},
   "outputs": [],
   "source": [
    "# Implementation of the Inception module with dimension reductions\n",
    "class MyInceptionLayer(nn.Module):\n",
    "    def __init__(self, in_channels, out_channels, **kwargs):\n",
    "        super().__init__()\n",
    "        out_channels = out_channels//4\n",
    "        self.conv1x = nn.Conv2d(in_channels, out_channels, (1,1), **kwargs)\n",
    "        # change input dimension\n",
    "        self.conv3x_afterconv1x = nn.Conv2d(out_channels, out_channels, (3,3), **kwargs)\n",
    "        self.conv5x_afterconv1x = nn.Conv2d(out_channels, out_channels, (5,5), **kwargs)\n",
    "        \n",
    "        self.poolx = nn.Sequential(\n",
    "            nn.MaxPool2d((3,3), stride=(1,1), padding=1),\n",
    "            nn.Conv2d(in_channels, out_channels, (1,1), **kwargs)\n",
    "        )\n",
    "        # change input dimension\n",
    "        self.conv1x_afterpoolx = nn.Conv2d(out_channels, out_channels, (1,1), **kwargs)\n",
    "        \n",
    "    def forward(self, x):\n",
    "        x_1 = self.conv1x(x)\n",
    "        \n",
    "        # feed the 1x1 conv into the 3x3 conv\n",
    "        x_1x_3 = self.conv3x_afterconv1x(self.conv1x(x))\n",
    "        # feed the 1x1 conv into the 5x5 conv\n",
    "        x_1x_5 = self.conv3x_afterconv1x(self.conv1x(x))\n",
    "        # feed the 3x3 max pooling into the modified 1x1 conv\n",
    "        x_px_1 = self.conv1x_afterpoolx(self.poolx(x))\n",
    "        \n",
    "        # concatenate the outputs of the convolutional operations\n",
    "        x = torch.cat([x_1, x_1x_3, x_1x_5, x_px_1], dim=1)\n",
    "        return F.relu(x)"
   ]
  },
  {
   "cell_type": "markdown",
   "id": "2cc233a1",
   "metadata": {},
   "source": [
    "## Model 4 - Inception Layer"
   ]
  },
  {
   "cell_type": "code",
   "execution_count": null,
   "id": "17dcaa71",
   "metadata": {},
   "outputs": [],
   "source": [
    "model4 = MyCNNModel(\n",
    "    MyInceptionLayer(3, 8, padding='same'),\n",
    "    MyInceptionLayer(8, 8, padding='same'),\n",
    "    nn.MaxPool2d(2, 2),\n",
    "    MyInceptionLayer(8, 16, padding='same'),\n",
    "    MyInceptionLayer(16, 16, padding='same'),\n",
    "    MyInceptionLayer(16, 16, padding='same'),\n",
    "    nn.AdaptiveMaxPool2d(1),\n",
    "    nn.Flatten(1),\n",
    "    nn.Linear(16, 20),\n",
    "    classes=train_set.classes,\n",
    ").fit(trainloader, valloader, epochs=10)"
   ]
  },
  {
   "cell_type": "markdown",
   "id": "e80addac",
   "metadata": {},
   "source": [
    "# Model 5 - Mixing ResNet with Inception"
   ]
  },
  {
   "cell_type": "code",
   "execution_count": null,
   "id": "69a01363",
   "metadata": {},
   "outputs": [],
   "source": [
    "model5 = MyCNNModel(\n",
    "    MyResLayer(3, 8, (3,3), padding='same'),\n",
    "    MyResLayer(8, 8, (3,3), padding='same'),\n",
    "    nn.MaxPool2d(2, 2),\n",
    "    MyResLayer(8, 16, (3,3), padding='same'),\n",
    "    MyResLayer(16, 16, (3,3), padding='same'),\n",
    "    MyInceptionLayer(16, 16, padding='same'),\n",
    "    MyInceptionLayer(16, 16, padding='same'),\n",
    "    nn.AdaptiveMaxPool2d(1),\n",
    "    nn.Flatten(1),\n",
    "    nn.Linear(16, 20),\n",
    "    classes=train_set.classes,\n",
    ").fit(trainloader, valloader, epochs=10)"
   ]
  },
  {
   "cell_type": "markdown",
   "id": "3ce74b0f",
   "metadata": {},
   "source": [
    "## Example run of model 5"
   ]
  },
  {
   "cell_type": "code",
   "execution_count": null,
   "id": "8e871d82",
   "metadata": {},
   "outputs": [],
   "source": [
    "f, axarr = plt.subplots(1,10, figsize=(12, 12))\n",
    "for i in range(10):\n",
    "    X,y = train_set[i]\n",
    "    y_hat = model4.predict(X.unsqueeze(0))[0]\n",
    "    X,y = X.transpose(0,-1).transpose(0,1) * 0.5 + 0.5, train_set.classes[y]\n",
    "    axarr[i].imshow(X)\n",
    "    axarr[i].axis('off')\n",
    "    axarr[i].set_title(f'{y} - {y_hat}', fontsize='small')"
   ]
  },
  {
   "cell_type": "markdown",
   "id": "44df840c",
   "metadata": {},
   "source": [
    "## Safe the Model 5"
   ]
  },
  {
   "cell_type": "code",
   "execution_count": null,
   "id": "bf3f101b",
   "metadata": {},
   "outputs": [],
   "source": [
    "torch.save(model5.state_dict(), '/home/ck/Documents/Deep_Learning_Python/convolutional_neural_network/model5.pt')"
   ]
  },
  {
   "cell_type": "markdown",
   "id": "bf1b917a",
   "metadata": {},
   "source": [
    "## Load Model 5"
   ]
  },
  {
   "cell_type": "code",
   "execution_count": null,
   "id": "c99a1e38",
   "metadata": {},
   "outputs": [],
   "source": [
    "model5 = MyCNNModel(\n",
    "    MyResLayer(3, 8, (3,3), padding='same'),\n",
    "    MyResLayer(8, 8, (3,3), padding='same'),\n",
    "    nn.MaxPool2d(2, 2),\n",
    "    MyResLayer(8, 16, (3,3), padding='same'),\n",
    "    MyResLayer(16, 16, (3,3), padding='same'),\n",
    "    MyInceptionLayer(16, 16, padding='same'),\n",
    "    MyInceptionLayer(16, 16, padding='same'),\n",
    "    nn.AdaptiveMaxPool2d(1),\n",
    "    nn.Flatten(1),\n",
    "    nn.Linear(16, 20),\n",
    "    classes=train_set.classes,\n",
    ")\n",
    "model5.load_state_dict(torch.load('/home/ck/Documents/Deep_Learning_Python/convolutional_neural_network/model5.pt'))"
   ]
  },
  {
   "cell_type": "markdown",
   "id": "395952c6",
   "metadata": {},
   "source": [
    "## Apply Predictions to Test-Set and write into a .csv"
   ]
  },
  {
   "cell_type": "code",
   "execution_count": null,
   "id": "d82d27df",
   "metadata": {},
   "outputs": [],
   "source": []
  }
 ],
 "metadata": {
  "kernelspec": {
   "display_name": "Python 3 (ipykernel)",
   "language": "python",
   "name": "python3"
  },
  "language_info": {
   "codemirror_mode": {
    "name": "ipython",
    "version": 3
   },
   "file_extension": ".py",
   "mimetype": "text/x-python",
   "name": "python",
   "nbconvert_exporter": "python",
   "pygments_lexer": "ipython3",
   "version": "3.10.6"
  }
 },
 "nbformat": 4,
 "nbformat_minor": 5
}
